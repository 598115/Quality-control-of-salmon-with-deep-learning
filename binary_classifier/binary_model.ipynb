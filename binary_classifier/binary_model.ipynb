{
 "cells": [
  {
   "cell_type": "code",
   "execution_count": 1,
   "metadata": {},
   "outputs": [],
   "source": [
    "###Imports###\n",
    "\n",
    "import torch\n",
    "import torch.nn as nn\n",
    "import torch.optim as optim\n",
    "import torchvision.transforms as transforms\n",
    "from torchvision import models\n",
    "from torchvision.models import ResNet18_Weights\n",
    "from torch.utils.data import DataLoader\n",
    "from torchvision.datasets import ImageFolder\n",
    "import matplotlib.pyplot as plt\n",
    "import os\n",
    "from sklearn.metrics import confusion_matrix\n",
    "import seaborn as sns\n",
    "from sklearn.metrics import accuracy_score, recall_score, precision_score"
   ]
  },
  {
   "cell_type": "code",
   "execution_count": 2,
   "metadata": {},
   "outputs": [],
   "source": [
    "###Importing dataset###\n",
    "data_dir = 'data'\n",
    "#data_dir value is environment specific\n",
    "train_dir = os.path.join(data_dir, 'train')\n",
    "val_dir = os.path.join(data_dir, 'validate')\n",
    "test_dir = os.path.join(data_dir, 'test')\n",
    "\n",
    "#util = Util(data_dir)\n",
    "#util.create_augmentations()\n",
    "\n",
    "# Defining transformations\n",
    "transform = transforms.Compose([\n",
    "    transforms.Resize((256, 512)),  # Resize images to 256x512\n",
    "    transforms.ToTensor(),  # Convert images to PyTorch tensors\n",
    "    transforms.Normalize(mean=[0.485, 0.456, 0.406], std=[0.229, 0.224, 0.225])  # Normalize with ImageNet values\n",
    "])\n",
    "\n",
    "# Loading datasets using ImageFolder\n",
    "train_dataset = ImageFolder(train_dir, transform=transform)\n",
    "val_dataset = ImageFolder(val_dir, transform=transform)\n",
    "test_dataset = ImageFolder(test_dir, transform=transform)\n",
    "\n",
    "# Creating data loaders\n",
    "train_loader = DataLoader(train_dataset, batch_size=8, shuffle=True)\n",
    "val_loader = DataLoader(val_dataset, batch_size=8, shuffle=False)\n",
    "test_loader = DataLoader(test_dataset, batch_size=8, shuffle=False)"
   ]
  },
  {
   "cell_type": "code",
   "execution_count": 3,
   "metadata": {},
   "outputs": [
    {
     "name": "stdout",
     "output_type": "stream",
     "text": [
      "Using device: cuda\n"
     ]
    }
   ],
   "source": [
    "###Model setup###\n",
    "\n",
    "#Set GPU as processing device if available else use CPU.\n",
    "device = torch.device(\"cuda\" if torch.cuda.is_available() else \"cpu\")\n",
    "print(f\"Using device: {device}\")\n",
    "\n",
    "#Loading pre-trained ResNet\n",
    "model = models.resnet18(weights=ResNet18_Weights.IMAGENET1K_V1).to(device)\n",
    "\n",
    "#Replacing the avgpool layer with Global Average Pooling to support any input picture size\n",
    "#model.avgpool = nn.AdaptiveAvgPool2d((1, 1))  # Global/Adaptive pooling\n",
    "num_ftrs = model.fc.in_features\n",
    "model.fc = nn.Sequential(\n",
    "    nn.Flatten(),\n",
    "    nn.Linear(num_ftrs, 1),  # Change to a single output\n",
    "    nn.Sigmoid()             # sigmoid for binary classification\n",
    ")"
   ]
  },
  {
   "cell_type": "code",
   "execution_count": 4,
   "metadata": {},
   "outputs": [],
   "source": [
    "###loss function and optimizer###\n",
    "criterion = nn.BCELoss()  # Binary Cross Entropy Loss\n",
    "optimizer = optim.Adam(model.parameters(), lr=0.001)"
   ]
  },
  {
   "cell_type": "code",
   "execution_count": 5,
   "metadata": {},
   "outputs": [
    {
     "name": "stdout",
     "output_type": "stream",
     "text": [
      "Epoch 1/30, Train Loss: 0.4251, Val Loss: 0.4214\n",
      "Epoch 2/30, Train Loss: 0.1990, Val Loss: 0.1954\n",
      "Epoch 3/30, Train Loss: 0.1684, Val Loss: 0.2455\n",
      "Epoch 4/30, Train Loss: 0.0870, Val Loss: 0.3505\n",
      "Epoch 5/30, Train Loss: 0.0676, Val Loss: 0.3995\n",
      "Epoch 6/30, Train Loss: 0.0829, Val Loss: 0.2396\n",
      "Epoch 7/30, Train Loss: 0.0541, Val Loss: 0.1112\n",
      "Epoch 8/30, Train Loss: 0.0395, Val Loss: 0.1028\n",
      "Epoch 9/30, Train Loss: 0.0266, Val Loss: 0.1245\n",
      "Epoch 10/30, Train Loss: 0.0674, Val Loss: 0.0845\n",
      "Model saved as binary_classifier_model.pth\n"
     ]
    }
   ],
   "source": [
    "###Training the model###\n",
    "\n",
    "# Ensuring the model is on the correct device\n",
    "device = torch.device(\"cuda\" if torch.cuda.is_available() else \"cpu\")\n",
    "model.to(device)\n",
    "\n",
    "# Training loop\n",
    "num_epochs = 30\n",
    "train_losses = []\n",
    "val_losses = []\n",
    "\n",
    "for epoch in range(num_epochs):\n",
    "    model.train()\n",
    "    running_loss = 0.0\n",
    "    for inputs, labels in train_loader:\n",
    "        # Move inputs and labels to the device\n",
    "        inputs, labels = inputs.to(device), labels.to(device).float().view(-1, 1)\n",
    "\n",
    "        # Zero the parameter gradients\n",
    "        optimizer.zero_grad()\n",
    "\n",
    "        # Forward pass\n",
    "        outputs = model(inputs)\n",
    "        loss = criterion(outputs, labels)\n",
    "\n",
    "        # Backward pass and optimization\n",
    "        loss.backward()\n",
    "        optimizer.step()\n",
    "\n",
    "        running_loss += loss.item()\n",
    "\n",
    "    train_loss = running_loss / len(train_loader)\n",
    "    train_losses.append(train_loss)\n",
    "\n",
    "    # Validation loop\n",
    "    model.eval()\n",
    "    val_running_loss = 0.0\n",
    "    with torch.no_grad():\n",
    "        for inputs, labels in val_loader:\n",
    "            inputs, labels = inputs.to(device), labels.to(device).float().view(-1, 1)\n",
    "            outputs = model(inputs)\n",
    "            loss = criterion(outputs, labels)\n",
    "            val_running_loss += loss.item()\n",
    "\n",
    "    val_loss = val_running_loss / len(val_loader)\n",
    "    val_losses.append(val_loss)\n",
    "\n",
    "    print(f\"Epoch {epoch+1}/{num_epochs}, Train Loss: {train_loss:.4f}, Val Loss: {val_loss:.4f}\")\n",
    "\n",
    "    # Clear cache after each epoch\n",
    "    torch.cuda.empty_cache()\n",
    "    # Early stopping\n",
    "    if val_loss < 0.1 and train_loss < 0.1: break\n",
    "\n",
    "# Save the model\n",
    "model_path = os.path.join('saved_models', 'binary_classifier_model.pth')\n",
    "os.makedirs(os.path.dirname(model_path), exist_ok=True)  # Create directory if it doesn't exist\n",
    "torch.save(model.state_dict(), model_path)\n",
    "print(\"Model saved as binary_classifier_model.pth\")"
   ]
  },
  {
   "cell_type": "code",
   "execution_count": 6,
   "metadata": {},
   "outputs": [
    {
     "name": "stdout",
     "output_type": "stream",
     "text": [
      "Images classified as class 0:\n",
      "data\\validate\\bad\\0f000f51-db56-4c09-9266-37da34932b78.webp\n",
      "data\\validate\\bad\\177fac96-2191-4884-b9f4-835d5ba0de7d.webp\n",
      "data\\validate\\bad\\82b6ef05-1fe6-4422-ad06-26642c41a8b2.webp\n",
      "data\\validate\\bad\\c0d166da-fb03-4da0-9855-aaf636fefa77.webp\n",
      "data\\validate\\bad\\c731a60e-2fbe-4e13-9523-21bce9a9fc1e.webp\n",
      "\n",
      "Good images falsely classified as bad (False Negatives):\n"
     ]
    },
    {
     "data": {
      "image/png": "[encoded data removed]",
      "text/plain": [
       "<Figure size 800x600 with 2 Axes>"
      ]
     },
     "metadata": {},
     "output_type": "display_data"
    },
    {
     "name": "stdout",
     "output_type": "stream",
     "text": [
      "Accuracy: 0.9394\n",
      "Recall: 1.0000\n",
      "Precision: 0.9286\n"
     ]
    }
   ],
   "source": [
    "\n",
    "###Plotting confusing matrix###\n",
    "\n",
    "# Initialize lists to store true and predicted labels\n",
    "true_labels = []\n",
    "pred_labels = []\n",
    "\n",
    "# Get predictions on test set\n",
    "model.eval()\n",
    "with torch.no_grad():\n",
    "    for inputs, labels in test_loader:\n",
    "        inputs, labels = inputs.to(device), labels.to(device).float().view(-1, 1)\n",
    "        outputs = model(inputs)\n",
    "        preds = (outputs > 0.5).float()\n",
    "        true_labels.extend(labels.cpu().numpy())\n",
    "        pred_labels.extend(preds.cpu().numpy())\n",
    "\n",
    "# Find indices where predictions were class 0\n",
    "class_0_indices = [i for i, pred in enumerate(pred_labels) if pred == 0]\n",
    "\n",
    "# Print the filenames of images predicted as bad (class 0)\n",
    "print(\"Images classified as class 0:\")\n",
    "for idx in class_0_indices:\n",
    "    # Get the filename from the dataset\n",
    "    img_path = val_dataset.samples[idx][0]\n",
    "    print(img_path)\n",
    "\n",
    "# Print falsely classified images (good images classified as bad)\n",
    "print(\"\\nGood images falsely classified as bad (False Negatives):\")\n",
    "for idx in class_0_indices:\n",
    "    if true_labels[idx] == 1:  # If true label is 1 (good) but predicted as 0 (bad)\n",
    "        img_path = val_dataset.samples[idx][0]\n",
    "        print(img_path)\n",
    "\n",
    "# Compute confusion matrix\n",
    "cm = confusion_matrix(true_labels, pred_labels)\n",
    "\n",
    "# Plot confusion matrix\n",
    "plt.figure(figsize=(8, 6))\n",
    "sns.heatmap(cm, annot=True, fmt='d', cmap='Blues')\n",
    "plt.xlabel('Predicted')\n",
    "plt.ylabel('True')\n",
    "plt.title('Confusion Matrix')\n",
    "plt.show()\n",
    "\n",
    "###Model evaluation scores###\n",
    "accuracy = accuracy_score(true_labels, pred_labels)\n",
    "recall = recall_score(true_labels, pred_labels)\n",
    "precision = precision_score(true_labels, pred_labels)\n",
    "\n",
    "print(f\"Accuracy: {accuracy:.4f}\")\n",
    "print(f\"Recall: {recall:.4f}\")\n",
    "print(f\"Precision: {precision:.4f}\")"
   ]
  }
 ],
 "metadata": {
  "kernelspec": {
   "display_name": "DL-Leroy",
   "language": "python",
   "name": "python3"
  },
  "language_info": {
   "codemirror_mode": {
    "name": "ipython",
    "version": 3
   },
   "file_extension": ".py",
   "mimetype": "text/x-python",
   "name": "python",
   "nbconvert_exporter": "python",
   "pygments_lexer": "ipython3",
   "version": "3.12.3"
  }
 },
 "nbformat": 4,
 "nbformat_minor": 2
}
